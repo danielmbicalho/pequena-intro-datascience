{
 "cells": [
  {
   "cell_type": "markdown",
   "metadata": {},
   "source": [
    "# Introdução a estatísticas descritiva e NumPy\n",
    "\n",
    "Estatística descritiva refere-se a matemática e técnica para entender os dados. \n",
    "\n",
    "Utilizaremos NumPy nessa introdução.\n"
   ]
  },
  {
   "cell_type": "code",
   "execution_count": 4,
   "metadata": {},
   "outputs": [
    {
     "data": {
      "text/plain": [
       "array([65, 28, 39, 80, 60, 86, 21, 20, 34, 54, 95, 99, 42, 45, 29, 25, 72,\n",
       "       34, 32, 37, 97, 63, 92, 69, 46, 81, 43, 11, 40,  8, 19, 28, 12, 15,\n",
       "       47, 26, 29, 42, 89, 16, 82, 59, 13, 30, 38,  9, 61, 69, 73, 29, 16,\n",
       "       60, 99, 52,  3, 13, 29, 14, 52, 69, 77, 26, 53, 87, 55, 60, 18, 18,\n",
       "       86, 52, 61, 89, 27,  4, 30, 86, 70,  6, 20, 37, 75, 34,  8, 16, 16,\n",
       "       78, 36,  2, 24, 14, 62, 42, 36,  0, 65, 93, 29, 84,  1, 64, 14,  1,\n",
       "       23, 49, 78, 11, 47, 69,  4, 85, 77, 13,  7,  7,  3, 81, 51, 30,  8,\n",
       "       65,  8, 14, 59, 43, 30, 84,  6, 20, 53, 27,  7,  0, 42, 49, 68, 35,\n",
       "       85, 22,  4, 26, 47, 21, 21, 45, 66, 40, 88, 60, 46, 80, 38, 48, 42,\n",
       "       19, 43,  0, 22, 36, 63, 31, 50, 99, 90, 27, 62, 57, 63, 92, 49, 64,\n",
       "       92, 21, 17, 24, 83, 29, 76, 74, 93, 36, 71, 49, 99,  0, 50, 78, 10,\n",
       "       40, 34, 68, 23, 22, 15, 86, 50, 32, 65, 52, 35, 92, 15, 83, 49, 65,\n",
       "       79, 46, 10, 81, 84,  5, 84, 17, 12, 57, 58, 92, 68, 64, 14, 34, 46,\n",
       "        1, 46,  2, 67, 76, 26, 18, 12, 74, 22, 73, 35, 67, 34, 99, 26, 85,\n",
       "       77, 61, 15, 83, 49, 51, 72, 56, 49, 42, 88,  8, 69, 72, 16, 18, 79,\n",
       "       91,  9, 29, 97, 74, 63, 75, 69, 79,  9, 66, 11,  6,  2, 44, 58, 91,\n",
       "       77, 15, 48, 74,  2, 43, 51, 32, 71, 17, 61, 61, 12, 29, 50, 16, 44,\n",
       "        4, 25, 42, 43, 31, 38, 25, 15, 15, 23, 76, 72, 36, 66, 17, 28, 23,\n",
       "       61, 13, 47, 81, 40, 42,  9, 32, 29, 61, 71, 81, 16, 99, 77, 88, 23,\n",
       "       87, 33, 52, 80, 31, 16, 30,  5,  0, 79, 39, 49, 76, 86, 82, 72, 22,\n",
       "       60, 80, 12, 25, 98,  9, 61, 16, 78, 58,  7, 69, 24, 47, 94, 21, 54,\n",
       "       75, 23, 56, 55, 25, 75, 98,  7, 51, 81, 60, 45, 55, 49, 12, 21, 12,\n",
       "       75, 80, 83, 65, 87, 85, 88, 97,  8, 24, 33, 37, 45, 50, 80, 11, 70,\n",
       "       44, 77, 39, 40, 48, 90, 50, 37, 73, 48, 78, 67, 14, 73,  8, 57, 53,\n",
       "       91, 51, 54, 21, 74, 75, 14, 62, 76, 15, 57, 45, 65, 51, 89, 76, 57,\n",
       "       10, 74,  8, 25, 99, 64, 38, 70, 11, 90, 65, 19, 10, 86, 85, 21, 47,\n",
       "        6, 71, 84, 26,  7, 64, 59, 11, 94, 95, 24, 90, 27, 40, 26, 93, 62,\n",
       "       23, 82, 28, 91, 26, 76, 24, 50, 49,  3,  6, 60, 67, 44, 85, 16, 47,\n",
       "       95, 84, 51, 42, 90, 70,  2, 30, 99, 55, 64, 81, 90, 74, 39, 37, 43,\n",
       "       62, 39, 32, 15, 66, 51, 12,  1, 68, 42, 37, 87, 68, 92, 87, 75, 15,\n",
       "       28, 34, 74, 57, 78, 39, 66, 56, 41, 59, 64, 80, 81, 69, 25, 98, 37,\n",
       "       86, 82, 20, 59, 98, 49, 61, 19, 98, 81, 67, 35, 49, 36, 61, 34, 32,\n",
       "       61, 28, 30, 86, 54, 11, 42, 72, 42, 75, 15, 42, 20, 77, 41, 48, 86,\n",
       "       55, 63, 10, 92, 50, 26, 40,  8, 10, 16, 67, 42, 88, 59,  6, 84, 90,\n",
       "       68, 72, 20, 37,  0, 33,  0, 43, 16, 82,  1, 61, 88, 65, 74, 24,  4,\n",
       "        8, 54, 57,  2, 54, 62, 55, 99, 38, 54, 71, 41, 25, 51, 53, 91, 20,\n",
       "       20, 10, 87, 19, 95,  8, 14, 68,  9, 92, 20, 14, 48, 49, 32,  0, 78,\n",
       "       38, 95, 56, 22, 14,  6, 20, 73, 55,  8, 90, 65, 54, 17, 93, 62, 68,\n",
       "        4, 49, 73, 28, 14, 98, 17, 93,  3, 57, 97, 40, 80, 82, 63, 59, 66,\n",
       "       38, 75,  2,  2, 48, 18, 54, 86, 51, 35, 74, 19, 40, 10, 91, 78,  9,\n",
       "       32, 44, 97, 72, 57, 72, 75, 48, 57, 90, 39, 59, 12, 97, 61, 24, 92,\n",
       "       43, 45, 84, 95, 68, 85, 57, 40, 86,  5, 63, 86, 94, 49, 12, 57, 12,\n",
       "       71,  6, 54, 56, 12, 18, 54, 72, 76,  2, 70,  8, 36, 86, 48, 60, 45,\n",
       "       43, 35,  5, 27, 22, 44, 49, 71, 28, 38, 68, 12, 17,  1, 58, 83, 49,\n",
       "        9, 10, 14, 62, 46, 32, 24, 32, 89, 52, 32, 48, 50, 68, 61, 37, 93,\n",
       "       88,  4, 29, 88, 91, 24, 71, 93, 61, 62,  0, 46, 39, 60, 11, 33, 88,\n",
       "       10, 66,  6, 67, 89, 48, 68, 61, 64, 34, 23, 50, 42, 15, 37, 71, 98,\n",
       "       49, 36, 31, 77, 53, 40, 34, 31, 80, 73, 47, 41, 89, 22,  0,  6, 15,\n",
       "       11, 83, 79, 56, 60, 48, 79, 12, 98, 85, 82, 24, 52, 65, 88, 84, 12,\n",
       "       64, 86,  5, 83, 92, 28, 61,  9, 24,  3, 63, 77, 71, 92, 89, 14, 77,\n",
       "       22, 52, 91, 94, 76, 41, 53, 99, 42, 25, 79, 76, 17, 76, 89, 61, 77,\n",
       "       90, 50, 77, 20, 13, 87, 88, 12, 24, 18, 77, 67, 58, 27, 46, 67, 94,\n",
       "       49, 73, 91, 36, 94, 61, 39, 92, 12, 43, 84, 31, 37,  5, 40,  8, 71,\n",
       "       61,  1, 95, 70, 46, 92, 53, 10, 18, 57, 71, 14, 89, 10, 37, 51, 70,\n",
       "       96, 67, 30, 53, 88, 11, 17, 17, 88, 25, 46, 54, 35, 49, 83, 61,  7,\n",
       "       28,  2, 80, 40, 20, 73, 17, 61, 34, 91, 74, 56, 76, 34, 69, 19, 21,\n",
       "       99,  4, 54,  2, 16, 79, 52, 60, 93, 25, 32, 84, 14, 88, 42, 53, 46,\n",
       "       85, 92, 86, 25, 78, 72, 67, 33, 35, 25,  7, 71,  9, 31, 44, 14, 69,\n",
       "       52,  4, 95, 47, 68, 72, 99,  5, 73, 84, 98, 59, 60, 98])"
      ]
     },
     "execution_count": 4,
     "metadata": {},
     "output_type": "execute_result"
    }
   ],
   "source": [
    "import numpy as np\n",
    "\n",
    "pontos = np.random.randint(0,100, size=1000)\n",
    "pontos"
   ]
  },
  {
   "cell_type": "markdown",
   "metadata": {},
   "source": [
    "## Medidas de Tendência Central\n",
    "\n",
    "São medidas que auxiliam no entendimento da centralização dos dados. Fornecem informações sobre a distribuição dos dados e concentração dos mesmos."
   ]
  },
  {
   "cell_type": "markdown",
   "metadata": {},
   "source": [
    "### Média\n",
    "\n",
    "Média é uma tendência central que está diretamente associada ao valor das observações. Com dois pontos a média é o valor central entre os dois, mas ao se adicionar mais pontos, a média se  move, de acordo com o valor de cada ponto adicionado. "
   ]
  },
  {
   "cell_type": "code",
   "execution_count": 5,
   "metadata": {},
   "outputs": [
    {
     "data": {
      "text/plain": [
       "49.17"
      ]
     },
     "execution_count": 5,
     "metadata": {},
     "output_type": "execute_result"
    }
   ],
   "source": [
    "np.mean(pontos)"
   ]
  },
  {
   "cell_type": "markdown",
   "metadata": {},
   "source": [
    "### Média ponderada\n",
    "\n"
   ]
  },
  {
   "cell_type": "code",
   "execution_count": 17,
   "metadata": {},
   "outputs": [
    {
     "name": "stdout",
     "output_type": "stream",
     "text": [
      "Valores: [8 4 2 8 4]\n",
      "Pesos: [1 2 2 2 4]\n",
      "Média ponderada:4.73\n"
     ]
    }
   ],
   "source": [
    "valores = np.random.randint(0, 10, size=5)\n",
    "pesos = np.random.randint(0, 5, size=5)\n",
    "print(\"Valores: {}\".format(valores))\n",
    "print(\"Pesos: {}\".format(pesos))\n",
    "print(\"Média ponderada:{:.2f}\".format(np.average(valores, weights=pesos)))"
   ]
  },
  {
   "cell_type": "markdown",
   "metadata": {},
   "source": [
    "### Mediana\n",
    "\n",
    "Mediana é o valor central de uma determinada quantidade de pontos. Independe dos valores dos pontos. No caso de uma quantidade par de pontos, a mediana é o valor da média dos valores centrais. Em caso de ser ímpar, é este valor. \n",
    "\n",
    "Mediana requer ordenação dos dados."
   ]
  },
  {
   "cell_type": "code",
   "execution_count": 6,
   "metadata": {},
   "outputs": [
    {
     "data": {
      "text/plain": [
       "49.0"
      ]
     },
     "execution_count": 6,
     "metadata": {},
     "output_type": "execute_result"
    }
   ],
   "source": [
    "np.median(pontos)"
   ]
  },
  {
   "cell_type": "markdown",
   "metadata": {},
   "source": [
    "### Quantil\n",
    "\n",
    "Os quantis são uma generalização da mediana. O quantil divide o valor do conjunto em N conjuntos possíveis, e permite entender o valor acumulado em cada um dos conjuntos. A mediana é o quantil que representa a metade do conjunto. \n",
    "\n",
    "Alguns nomes específicos dos quantis:\n",
    "\n",
    "N = 100: Percentil (P)\n",
    "\n",
    "N = 4: Quartil (Q)\n",
    "\n",
    "N = 3: Tercil (T)\n",
    "\n"
   ]
  },
  {
   "cell_type": "code",
   "execution_count": 55,
   "metadata": {},
   "outputs": [
    {
     "name": "stdout",
     "output_type": "stream",
     "text": [
      "Quartis: [24. 49. 73.]\n",
      "Tercis: [29. 60. 88.]\n"
     ]
    }
   ],
   "source": [
    "print(\"Quartis: {}\".format(np.percentile(pontos, [25,50, 75])))\n",
    "print(\"Tercis: {}\".format(np.percentile(pontos, [30, 60, 90])))"
   ]
  },
  {
   "cell_type": "markdown",
   "metadata": {},
   "source": [
    "### Moda\n",
    "\n",
    "Moda se refere aos valores mais comuns dos pontos, no conjunto. \n",
    "\n",
    "[Counter em python](https://docs.python.org/3/library/collections.html#collections.Counter)"
   ]
  },
  {
   "cell_type": "code",
   "execution_count": 57,
   "metadata": {},
   "outputs": [
    {
     "data": {
      "text/plain": [
       "[(61, 22), (49, 20), (12, 17), (42, 17), (14, 16)]"
      ]
     },
     "execution_count": 57,
     "metadata": {},
     "output_type": "execute_result"
    }
   ],
   "source": [
    "from collections import Counter\n",
    "# Encontrando valor com maior frequencia\n",
    "contagem = Counter(pontos)\n",
    "contagem.most_common(5)\n",
    "    "
   ]
  },
  {
   "cell_type": "markdown",
   "metadata": {},
   "source": [
    "## Medidas de Dispersão\n",
    "Medidas de dispersão nos ajuda a entender como os dados estão espalhados. Nos ajudar a entender um pouco sobre tipos de distribuição que os dados obedecem e demais insights. "
   ]
  },
  {
   "cell_type": "markdown",
   "metadata": {},
   "source": [
    "### Amplitude\n",
    "É a diferença entre o maior e menor valor presente nos pontos. "
   ]
  },
  {
   "cell_type": "code",
   "execution_count": 59,
   "metadata": {},
   "outputs": [
    {
     "name": "stdout",
     "output_type": "stream",
     "text": [
      "Amplitude:99\n"
     ]
    }
   ],
   "source": [
    "amplitude = max(pontos) - min(pontos)\n",
    "print(\"Amplitude:{}\".format(amplitude))"
   ]
  },
  {
   "cell_type": "markdown",
   "metadata": {},
   "source": [
    "### Variância"
   ]
  },
  {
   "cell_type": "markdown",
   "metadata": {},
   "source": [
    "### Desvio Padrão"
   ]
  },
  {
   "cell_type": "markdown",
   "metadata": {},
   "source": [
    "### Covariância e Correlação"
   ]
  },
  {
   "cell_type": "markdown",
   "metadata": {},
   "source": [
    "## Referências\n",
    "\n",
    "[Blog do Felipe Galvão](http://felipegalvao.com.br/blog/2016/03/31/estatistica-descritiva-com-python/)\n",
    "\n",
    "[Data Science do Zero](https://www.amazon.com.br/Science-Zero-Primeiras-Regras-Python/dp/857608998X?tag=kns00-20&ascsubtag=907d1661-0435-4957-98e5-6539f6f2b3ba)\n",
    "\n",
    "[Estatístias e Probabilidade, Khan Academy](https://pt.khanacademy.org/math/statistics-probability)\n"
   ]
  },
  {
   "cell_type": "code",
   "execution_count": null,
   "metadata": {},
   "outputs": [],
   "source": []
  }
 ],
 "metadata": {
  "kernelspec": {
   "display_name": "Python 3",
   "language": "python",
   "name": "python3"
  },
  "language_info": {
   "codemirror_mode": {
    "name": "ipython",
    "version": 3
   },
   "file_extension": ".py",
   "mimetype": "text/x-python",
   "name": "python",
   "nbconvert_exporter": "python",
   "pygments_lexer": "ipython3",
   "version": "3.5.3"
  }
 },
 "nbformat": 4,
 "nbformat_minor": 2
}
