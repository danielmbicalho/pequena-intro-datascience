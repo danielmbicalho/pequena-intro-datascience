{
 "cells": [
  {
   "cell_type": "markdown",
   "metadata": {},
   "source": [
    "# Lambda\n",
    "\n",
    "As funções anônimas — em Python também chamadas de expressões lambda, tem utilidade pode não ser muito óbvia à primeira vista. Uma função anônima é útil principalmente nos casos em que precisamos de uma função para ser passada como parâmetro para outra função, e que não será mais necessária após isso, como se fosse “descartável”.\n",
    "\n",
    "Não aceita mais de uma instrução, tem como vantagem que não precisa definir nome de função, e normalmente é usada com map, reduce, e filter. Não é preciso nome-a-la dentro do código, é uma função inline, dando flexibilidade ao usuário.\n",
    "Resumindo: é uma forma de criar uma função sem precisar defini-la com a vantagem de economizar linhas no código. Veja este exemplo \n",
    "\n",
    "```python\n",
    "def duplica(n):\n",
    "    return x * 2\n",
    "```\n",
    "\n",
    "Pode ser reescrita da seguinte forma em Lambda:\n",
    "\n",
    "```python\n",
    "duplica = lambda x: x * 2\n",
    "```\n",
    "\n",
    "Dessa forma, sempre que quisermos usar a função duplica, basta chamar como uma função normal, usando um número como argumento.\n",
    "\n",
    "As funções lambda x: <operações que se queiram realizar> são chamadas de funções anônimas, \n"
   ]
  },
  {
   "cell_type": "code",
   "execution_count": null,
   "metadata": {},
   "outputs": [],
   "source": [
    "def duplica(n):\n",
    "    return x * 2\n",
    "\n",
    "print(duplica(2))"
   ]
  },
  {
   "cell_type": "code",
   "execution_count": 5,
   "metadata": {},
   "outputs": [],
   "source": [
    "duplica_lambda = lambda x: x*2\n",
    "print(duplica_lambda(2))"
   ]
  },
  {
   "cell_type": "markdown",
   "metadata": {},
   "source": [
    "Podemos fazer o mesmo para diversas funções reduzind o código. Mas lembrando que uma função **lambda** você vai trocar praticidade por legibilidade do código. "
   ]
  },
  {
   "cell_type": "code",
   "execution_count": null,
   "metadata": {},
   "outputs": [],
   "source": [
    "def ao_quadrado(num):\n",
    "    return num ** 2\n",
    "print(ao_quadrado(3))"
   ]
  },
  {
   "cell_type": "code",
   "execution_count": null,
   "metadata": {},
   "outputs": [],
   "source": [
    "ao_quadrado_lambda = lambda x: x **2\n",
    "print(ao_quadrado_lambda(3))"
   ]
  },
  {
   "cell_type": "markdown",
   "metadata": {},
   "source": [
    "## Aplicando Lambda em Vetores\n",
    "\n",
    "Funções lambdas se tornam muito úteis quando precisamos aplicar funções customizadas a vetores, uma única vez, para limpeza de dados por exemplo. Usaremos exemplos simples e aplicações usando List Comprehension e Map"
   ]
  },
  {
   "cell_type": "code",
   "execution_count": 16,
   "metadata": {},
   "outputs": [
    {
     "name": "stdout",
     "output_type": "stream",
     "text": [
      "[0, 1, 2, 3, 4, 5, 6]\n",
      "[0, 2, 4, 6, 8, 10, 12]\n",
      "[0, 2, 4, 6, 8, 10, 12]\n"
     ]
    }
   ],
   "source": [
    "import numpy as np\n",
    "\n",
    "vetor = [0, 1, 2, 3, 4, 5, 6]\n",
    "\n",
    "vetor_duplicado = [x * 2 for x in vetor]\n",
    "vetor_dup_lambda = list(map(lambda x: x*2, vetor))\n",
    "\n",
    "print(vetor)\n",
    "print(vetor_duplicado)\n",
    "print(vetor_dup_lambda)\n"
   ]
  },
  {
   "cell_type": "markdown",
   "metadata": {},
   "source": [
    "## Aplicando Lambda em DataFrames\n",
    "\n",
    "Aplicando lambda a datasets é algo que se faz com grande frequência, para limpeza, indexação e categorização. Geralmente utiliza-se a função apply para essas apicações.\n"
   ]
  },
  {
   "cell_type": "code",
   "execution_count": 29,
   "metadata": {},
   "outputs": [
    {
     "data": {
      "text/html": [
       "<div>\n",
       "<style scoped>\n",
       "    .dataframe tbody tr th:only-of-type {\n",
       "        vertical-align: middle;\n",
       "    }\n",
       "\n",
       "    .dataframe tbody tr th {\n",
       "        vertical-align: top;\n",
       "    }\n",
       "\n",
       "    .dataframe thead th {\n",
       "        text-align: right;\n",
       "    }\n",
       "</style>\n",
       "<table border=\"1\" class=\"dataframe\">\n",
       "  <thead>\n",
       "    <tr style=\"text-align: right;\">\n",
       "      <th></th>\n",
       "      <th>5.1</th>\n",
       "      <th>3.5</th>\n",
       "      <th>1.4</th>\n",
       "      <th>0.2</th>\n",
       "      <th>Iris-setosa</th>\n",
       "      <th>Cat_upper</th>\n",
       "    </tr>\n",
       "  </thead>\n",
       "  <tbody>\n",
       "    <tr>\n",
       "      <th>0</th>\n",
       "      <td>4.9</td>\n",
       "      <td>3.0</td>\n",
       "      <td>1.4</td>\n",
       "      <td>0.2</td>\n",
       "      <td>Iris-setosa</td>\n",
       "      <td>IRIS-SETOSA</td>\n",
       "    </tr>\n",
       "    <tr>\n",
       "      <th>1</th>\n",
       "      <td>4.7</td>\n",
       "      <td>3.2</td>\n",
       "      <td>1.3</td>\n",
       "      <td>0.2</td>\n",
       "      <td>Iris-setosa</td>\n",
       "      <td>IRIS-SETOSA</td>\n",
       "    </tr>\n",
       "    <tr>\n",
       "      <th>2</th>\n",
       "      <td>4.6</td>\n",
       "      <td>3.1</td>\n",
       "      <td>1.5</td>\n",
       "      <td>0.2</td>\n",
       "      <td>Iris-setosa</td>\n",
       "      <td>IRIS-SETOSA</td>\n",
       "    </tr>\n",
       "    <tr>\n",
       "      <th>3</th>\n",
       "      <td>5.0</td>\n",
       "      <td>3.6</td>\n",
       "      <td>1.4</td>\n",
       "      <td>0.2</td>\n",
       "      <td>Iris-setosa</td>\n",
       "      <td>IRIS-SETOSA</td>\n",
       "    </tr>\n",
       "    <tr>\n",
       "      <th>4</th>\n",
       "      <td>5.4</td>\n",
       "      <td>3.9</td>\n",
       "      <td>1.7</td>\n",
       "      <td>0.4</td>\n",
       "      <td>Iris-setosa</td>\n",
       "      <td>IRIS-SETOSA</td>\n",
       "    </tr>\n",
       "  </tbody>\n",
       "</table>\n",
       "</div>"
      ],
      "text/plain": [
       "   5.1  3.5  1.4  0.2  Iris-setosa    Cat_upper\n",
       "0  4.9  3.0  1.4  0.2  Iris-setosa  IRIS-SETOSA\n",
       "1  4.7  3.2  1.3  0.2  Iris-setosa  IRIS-SETOSA\n",
       "2  4.6  3.1  1.5  0.2  Iris-setosa  IRIS-SETOSA\n",
       "3  5.0  3.6  1.4  0.2  Iris-setosa  IRIS-SETOSA\n",
       "4  5.4  3.9  1.7  0.4  Iris-setosa  IRIS-SETOSA"
      ]
     },
     "execution_count": 29,
     "metadata": {},
     "output_type": "execute_result"
    }
   ],
   "source": [
    "import pandas as pd\n",
    "\n",
    "df = pd.read_csv('iris-dataset.csv')\n",
    "# Adiciona uma nova coluna, Cat_upper, que é a categoria em caixa alta\n",
    "df['Cat_upper'] = df['Iris-setosa'].apply(lambda x: x.upper())\n",
    "df.head()"
   ]
  },
  {
   "cell_type": "markdown",
   "metadata": {},
   "source": [
    "## Referências\n",
    "\n",
    "[https://chrisalbon.com/python/data_wrangling/pandas_apply_operations_to_dataframes/]\n",
    "\n",
    "[https://dbader.org/blog/python-lambda-functions]\n",
    "\n",
    "[https://www.youtube.com/watch?v=t9-w8iekj1o]\n",
    "\n",
    "[https://docs.python.org/3/tutorial/controlflow.html#lambda-expressions]\n"
   ]
  }
 ],
 "metadata": {
  "kernelspec": {
   "display_name": "Python 3",
   "language": "python",
   "name": "python3"
  },
  "language_info": {
   "codemirror_mode": {
    "name": "ipython",
    "version": 3
   },
   "file_extension": ".py",
   "mimetype": "text/x-python",
   "name": "python",
   "nbconvert_exporter": "python",
   "pygments_lexer": "ipython3",
   "version": "3.5.3"
  }
 },
 "nbformat": 4,
 "nbformat_minor": 2
}
