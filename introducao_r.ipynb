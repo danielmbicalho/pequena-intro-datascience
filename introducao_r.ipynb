{
 "cells": [
  {
   "cell_type": "markdown",
   "metadata": {},
   "source": [
    "# Introdução ao R\n",
    "\n",
    "Este material é inspirado nas seguintes referências:\n",
    "\n",
    "[Quick intro to R](https://www.statmethods.net/input/datatypes.html)\n",
    "\n",
    "[An Introduction to R](https://cran.r-project.org/doc/manuals/r-release/R-intro.pdf)"
   ]
  },
  {
   "cell_type": "markdown",
   "metadata": {},
   "source": [
    "## O básico de R\n",
    "\n",
    "R é um ambiente para cálculos estatísticos e gráficos. Está disponível como software livre e você pode baixá-lo (aqui)[https://www.r-project.org/]\n",
    "\n",
    "\n",
    "## R studio\n",
    "R Studio é uma IDE para R e está disponível (aqui)[https://www.rstudio.com]\n",
    "\n",
    "\n",
    "### Pacotes, instalação e importação \n",
    "\n",
    "Após a instalação do R, estará disponível em seu computador um conjunto amplo de ferramentas. Para acessar um conjunto de ferramentas disponíveis em um pacote R, basta utilizar o comando **library**, passando como argumento o nome do pacote.\n",
    "\n",
    "library(readxl)\n",
    "\n",
    "Caso o pacote não esteja disponível localmente, basta utilizar o comando **install.packages**\n"
   ]
  },
  {
   "cell_type": "code",
   "execution_count": 67,
   "metadata": {},
   "outputs": [
    {
     "name": "stderr",
     "output_type": "stream",
     "text": [
      "Warning message:\n",
      "\"unable to access index for repository https://mran.microsoft.com/snapshot/2017-09-01/src/contrib:\n",
      "  não foi possível abrir o arquivo de destino 'C:\\Users\\danie\\AppData\\Local\\Temp\\Rtmp8smJSh\\file75013c751a1', motivo 'No such file or directory'\"Warning message:\n",
      "\"unable to access index for repository http://www.stats.ox.ac.uk/pub/RWin/src/contrib:\n",
      "  não foi possível abrir o arquivo de destino 'C:\\Users\\danie\\AppData\\Local\\Temp\\Rtmp8smJSh\\file75077053fb3', motivo 'No such file or directory'\"Warning message:\n",
      "\"package 'readxl' is not available (for R version 3.4.3)\"Warning message in gzfile(file, mode):\n",
      "\"não foi possível abrir o arquivo comprimido 'C:\\Users\\danie\\AppData\\Local\\Temp\\Rtmp8smJSh/libloc_205_61a9f705.rds', motivo provável 'No such file or directory'\""
     ]
    },
    {
     "ename": "ERROR",
     "evalue": "Error in gzfile(file, mode): não é possível abrir a conexão\n",
     "output_type": "error",
     "traceback": [
      "Error in gzfile(file, mode): não é possível abrir a conexão\nTraceback:\n",
      "1. install.packages(\"readxl\")",
      "2. getDependencies(pkgs, dependencies, available, lib)",
      "3. installed.packages(lib.loc = libpath, fields = c(\"Package\", \"Version\"))",
      "4. saveRDS(list(base = base, value = ret0), dest)",
      "5. gzfile(file, mode)"
     ]
    }
   ],
   "source": [
    "install.packages(\"readxl\")\n",
    "\n",
    "library(readxl)"
   ]
  },
  {
   "cell_type": "code",
   "execution_count": null,
   "metadata": {},
   "outputs": [],
   "source": [
    "# History acessa o histórico de comandos\n",
    "# history()\n",
    "\n",
    "# Caso tenha dúvidas sobre um comando, basta acessá-lo somente pelo nome\n",
    "c\n",
    "\n",
    "# Para acessar a ajuda sobre um determinado comando, basta digitar ? antes do nome do comando ou usar o comando help\n",
    "?c\n",
    "help(c)"
   ]
  },
  {
   "cell_type": "code",
   "execution_count": null,
   "metadata": {},
   "outputs": [],
   "source": [
    "# Obtendo o diretório atual\n",
    "getwd()\n",
    "\n",
    "# Alterar o diretório\n",
    "setwd('Novo diretório')"
   ]
  },
  {
   "cell_type": "code",
   "execution_count": null,
   "metadata": {},
   "outputs": [],
   "source": [
    "# Executando um script externo\n",
    "source('script.R')"
   ]
  },
  {
   "cell_type": "code",
   "execution_count": null,
   "metadata": {},
   "outputs": [],
   "source": [
    "# Listando os objetos que estão na sessão\n",
    "ls()\n",
    "objects()\n",
    "\n",
    "# Removendo objetos que estão na sessão\n",
    "rm(x, y, z)\n",
    "\n",
    "# Removendo todos os objetos da sessão\n",
    "rm(list=ls())"
   ]
  },
  {
   "cell_type": "markdown",
   "metadata": {},
   "source": [
    "### Variáveis e tipos"
   ]
  },
  {
   "cell_type": "code",
   "execution_count": null,
   "metadata": {},
   "outputs": [],
   "source": [
    "# Atribuindo valores a uma variável\n",
    "x <- c(1, 2, 3, 4)\n",
    "\n",
    "# Pode-se, também, usar a função assign\n",
    "\n",
    "assign(y, c(5, 6, 7, 8))\n",
    "\n",
    "# Atribuição também funciona em outra direção\n",
    "\n",
    "c(9, 10, 11, 12) -> z"
   ]
  },
  {
   "cell_type": "markdown",
   "metadata": {},
   "source": [
    "#### Tipos em R\n",
    "Em R temos os tipos:\n",
    "* **númerico**: que envolve todos os tipos de números\n",
    "* **caracter**: que envolve os tipo relativos a texto\n",
    "* **factor**: que envolve os tipo categóricos\n",
    "* **matrix**: que é relacionado aos vetores bidimensionais\n",
    "* **dataframe**: relacionado a conjunto de dados\n",
    "* **lógico**: valores booleanos"
   ]
  },
  {
   "cell_type": "code",
   "execution_count": null,
   "metadata": {},
   "outputs": [],
   "source": [
    "class(3)\n",
    "class(2.5)\n",
    "class('a')\n",
    "class('tipo')\n",
    "v <- c(1, 2, 3, 4)\n",
    "class(v)\n",
    "f <- factor(0, 1, 1, 0)\n",
    "class(f)\n",
    "m <- matrix(v, byrow=TRUE, nrow=2)\n",
    "class(m)\n",
    "df <- data.frame(v, f)\n",
    "class(df)\n",
    "class(TRUE)\n",
    "class(NA)"
   ]
  },
  {
   "cell_type": "markdown",
   "metadata": {},
   "source": [
    "### Criação de vetores"
   ]
  },
  {
   "cell_type": "code",
   "execution_count": null,
   "metadata": {},
   "outputs": [],
   "source": [
    "# Utilizando a função c\n",
    "c(1, 2, 3, 4, 5)\n",
    "\n",
    "# Criando uma sequência\n",
    "seq(length=10, from=1, by=1)\n",
    "\n",
    "# Ou mesmo\n",
    "seq(1,10)\n",
    "\n",
    "# Quem sabe replicando o mesmo objeto diversas vezes\n",
    "rep(1, times=5)\n",
    "\n",
    "# Repetindo cada elemento 5 vezes\n",
    "rep(c(1,2,3), each=5)\n"
   ]
  },
  {
   "cell_type": "markdown",
   "metadata": {},
   "source": [
    "#### Propriedades de um vetor"
   ]
  },
  {
   "cell_type": "code",
   "execution_count": null,
   "metadata": {},
   "outputs": [],
   "source": [
    "x <- c(1,2,3,4)\n",
    "# Verificando o tipo de x\n",
    "class(x)\n",
    "# verificando o tamanho de x\n",
    "length(x)\n",
    "# verificando as dimensões de x\n",
    "dim(x)"
   ]
  },
  {
   "cell_type": "markdown",
   "metadata": {},
   "source": [
    "#### Vetores lógicos"
   ]
  },
  {
   "cell_type": "code",
   "execution_count": null,
   "metadata": {},
   "outputs": [],
   "source": [
    "c(3, 4, 1, -2, -3, 5) > 0"
   ]
  },
  {
   "cell_type": "markdown",
   "metadata": {},
   "source": [
    "### Nomeando os vetores"
   ]
  },
  {
   "cell_type": "markdown",
   "metadata": {},
   "source": [
    "### Operações com vetores\n",
    "\n",
    "Diferente de Python, indices de vetores em R começam com 1"
   ]
  },
  {
   "cell_type": "code",
   "execution_count": null,
   "metadata": {},
   "outputs": [],
   "source": [
    "vetor(c(2,3,4))\n",
    "vetor[2:5]"
   ]
  },
  {
   "cell_type": "markdown",
   "metadata": {},
   "source": [
    "### Matrizes"
   ]
  },
  {
   "cell_type": "code",
   "execution_count": null,
   "metadata": {},
   "outputs": [],
   "source": [
    "m<- matrix(c(1,2,3,4), byrow=TRUE, nrow=2)\n",
    "m\n",
    "colnames(m) <- c('c1', 'c2')\n",
    "rownames(m) <- c('l1', 'l2')\n",
    "m\n",
    "## OU\n",
    "\n",
    "m2 <- matrix( c(1,2,3,4), byrow=TRUE, nrow=2,\n",
    "            dimnames = list(c('c1', 'c2'), c('c1', 'c2')))\n",
    "\n",
    "# Adicionando nova coluna\n",
    "matriz <- cbind(m,c(5, 6))\n",
    "matriz\n",
    "# Adicionando nova linha\n",
    "matriz <- rbind(m, c(7, 8))\n",
    "matriz\n",
    "# Somando colunas\n",
    "# colsum\n",
    "\n",
    "# Somando linhas\n",
    "# rowsum\n",
    "\n",
    "# Selecionando pedaços\n",
    "# Todos elementos da 1 linha\n",
    "# matrix[1, ]\n",
    "\n",
    "# Todos elementos da 2 coluna\n",
    "# matrix[, 2]"
   ]
  },
  {
   "cell_type": "markdown",
   "metadata": {},
   "source": [
    "### Factors\n",
    "\n",
    "Estruturas utilizadas para variáveis categóricas\n"
   ]
  },
  {
   "cell_type": "code",
   "execution_count": 69,
   "metadata": {},
   "outputs": [
    {
     "data": {
      "text/html": [
       "<ol class=list-inline>\n",
       "\t<li>Baixo</li>\n",
       "\t<li>Médio</li>\n",
       "\t<li>Baixo</li>\n",
       "\t<li>Médio</li>\n",
       "\t<li>Alto</li>\n",
       "</ol>\n"
      ],
      "text/latex": [
       "\\begin{enumerate*}\n",
       "\\item Baixo\n",
       "\\item Médio\n",
       "\\item Baixo\n",
       "\\item Médio\n",
       "\\item Alto\n",
       "\\end{enumerate*}\n"
      ],
      "text/markdown": [
       "1. Baixo\n",
       "2. Médio\n",
       "3. Baixo\n",
       "4. Médio\n",
       "5. Alto\n",
       "\n",
       "\n"
      ],
      "text/plain": [
       "[1] Baixo Médio Baixo Médio Alto \n",
       "Levels: Baixo < Médio < Alto"
      ]
     },
     "metadata": {},
     "output_type": "display_data"
    },
    {
     "data": {
      "text/html": [
       "FALSE"
      ],
      "text/latex": [
       "FALSE"
      ],
      "text/markdown": [
       "FALSE"
      ],
      "text/plain": [
       "[1] FALSE"
      ]
     },
     "metadata": {},
     "output_type": "display_data"
    }
   ],
   "source": [
    "f <- factor(c('M', 'F', 'M', 'F', 'F'))\n",
    "alturas <- c('Baixo', 'Médio', 'Baixo', 'Médio', 'Alto')\n",
    "alturasf <- factor(alturas, order = TRUE, levels = c('Baixo', 'Médio', 'Alto'))\n",
    "alturasf\n",
    "alturasf[1] > alturasf[2]\n"
   ]
  },
  {
   "cell_type": "markdown",
   "metadata": {},
   "source": [
    "### Dataframes\n",
    "Conjunto de dados"
   ]
  },
  {
   "cell_type": "code",
   "execution_count": null,
   "metadata": {},
   "outputs": [],
   "source": [
    "nome <- c('Jose', 'Ana', 'Joao', 'Maria', 'Carmem')\n",
    "idade <- c(41, 34, 25, 37, 23)\n",
    "df <- data.frame(nome, idade, f)\n",
    "names(df) <- c('Nome', 'Idade', 'Sexo')\n",
    "df"
   ]
  },
  {
   "cell_type": "code",
   "execution_count": null,
   "metadata": {},
   "outputs": [],
   "source": [
    "df$Nome\n",
    "class(df$Nome)"
   ]
  },
  {
   "cell_type": "markdown",
   "metadata": {},
   "source": [
    "### Lists\n",
    "\n",
    "Lista são coleções ordenadas com objetos múltiplos de tipos. "
   ]
  },
  {
   "cell_type": "code",
   "execution_count": null,
   "metadata": {},
   "outputs": [],
   "source": [
    "l <- list('Jose', 41, 'M', 2500.00)\n",
    "l"
   ]
  },
  {
   "cell_type": "markdown",
   "metadata": {},
   "source": [
    "### Básico para trabalhar com R\n",
    "Algumas funções úteis para trabalhar com R, que ainda não foram exploradas neste notebook\n",
    "\n",
    "Para isso, vamos importar o dataset de estudo de teste de motor de carros, para ter uma pequena amostra do poder de R. \n",
    "\n",
    "Informações sobre o pacote datasets pode ser encontrado [aqui](https://stat.ethz.ch/R-manual/R-devel/library/datasets/html/00Index.html)\n"
   ]
  },
  {
   "cell_type": "code",
   "execution_count": null,
   "metadata": {},
   "outputs": [],
   "source": [
    "data(mtcars)\n",
    "mtcars\n"
   ]
  },
  {
   "cell_type": "code",
   "execution_count": null,
   "metadata": {},
   "outputs": [],
   "source": [
    "summary(mtcars)"
   ]
  },
  {
   "cell_type": "code",
   "execution_count": null,
   "metadata": {},
   "outputs": [],
   "source": [
    "head(mtcars)"
   ]
  },
  {
   "cell_type": "code",
   "execution_count": null,
   "metadata": {},
   "outputs": [],
   "source": [
    "tail(mtcars)"
   ]
  }
 ],
 "metadata": {
  "kernelspec": {
   "display_name": "R",
   "language": "R",
   "name": "ir"
  },
  "language_info": {
   "codemirror_mode": "r",
   "file_extension": ".r",
   "mimetype": "text/x-r-source",
   "name": "R",
   "pygments_lexer": "r",
   "version": "3.4.3"
  }
 },
 "nbformat": 4,
 "nbformat_minor": 2
}
