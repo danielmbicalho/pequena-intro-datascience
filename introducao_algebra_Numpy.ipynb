{
 "cells": [
  {
   "cell_type": "code",
   "execution_count": 1,
   "metadata": {
    "slideshow": {
     "slide_type": "skip"
    }
   },
   "outputs": [
    {
     "data": {
      "text/plain": [
       "{'height': 600, 'scroll': True, 'width': 1000}"
      ]
     },
     "execution_count": 1,
     "metadata": {},
     "output_type": "execute_result"
    }
   ],
   "source": [
    "from notebook.services.config import ConfigManager\n",
    "cm = ConfigManager()\n",
    "cm.update('livereveal', {\n",
    "              'width': 1000,\n",
    "              'height': 600,\n",
    "              'scroll': True,\n",
    "})"
   ]
  },
  {
   "cell_type": "markdown",
   "metadata": {
    "slideshow": {
     "slide_type": "slide"
    }
   },
   "source": [
    "# NumPy\n",
    "\n",
    "## Um pouco de álgebra linear\n",
    "\n",
    "Álgebra linear é um ramo da matemática muito utilizado em Ciências de Dados, principalmente em *Machine Learning*. Sua representação contínua faz-se muito útil para o campo. \n",
    "\n",
    "Utilizando Python, temos o pacote Numpy, que consegue aplicar os conceitos de álgebra facilmente, de forma a facilitar a vida do desenvolvedor da área. o principal objeto do Numpy são os arrays multidimensionais, que podem ser criados através da função ndarray. \n",
    "\n",
    "Para cada conceito apresentado neste tutorial, serão apresentados alguns exemplos em Numpy.\n",
    "\n",
    "[Documentação em inglês do NumPy](https://docs.scipy.org/doc/numpy-1.14.0/reference/index.html)\n",
    "\n",
    "[Guia do usuário NumPy, em inglês](https://docs.scipy.org/doc/numpy-1.14.0/user/index.html)\n",
    "\n",
    "[Documentação do pyscience-brasil, em português](http://pyscience-brasil.wikidot.com/module:numpy#toc2)"
   ]
  },
  {
   "cell_type": "code",
   "execution_count": 2,
   "metadata": {
    "slideshow": {
     "slide_type": "fragment"
    }
   },
   "outputs": [],
   "source": [
    "import numpy as np"
   ]
  },
  {
   "cell_type": "markdown",
   "metadata": {
    "slideshow": {
     "slide_type": "slide"
    }
   },
   "source": [
    "## Tipos de objetos em Álgebra\n",
    "\n",
    "### Escalares\n",
    "\n",
    "[Escalares](https://docs.scipy.org/doc/numpy/reference/arrays.scalars.html) são apenas números. Geralmente são utilizados para aplicar transformações a Vetores e Matrizes\n",
    "\n",
    "### Vetores\n",
    "É um arranjo ordenado de números. Pode-se identificar cada número individual por seu indíce. \n",
    "\n",
    "### Matrizes\n",
    "São arranjos bidimensionais de números. Cada elemento é identificado por dois indíces, diferente dos vetores. \n",
    "\n",
    "### Tensores\n",
    "Em alguns casos é necessário um arranjo com mais de dois eixos. É representado por uma grade e com número variável de eixos. "
   ]
  },
  {
   "cell_type": "code",
   "execution_count": 3,
   "metadata": {
    "slideshow": {
     "slide_type": "subslide"
    }
   },
   "outputs": [
    {
     "name": "stdout",
     "output_type": "stream",
     "text": [
      "Vetor \n",
      " [1 2 3 4 5]\n",
      "\n",
      "Matriz \n",
      " [[4 5 6]\n",
      " [9 8 7]]\n",
      "\n",
      "Tensor \n",
      " [[1 2 3]\n",
      " [4 5 6]\n",
      " [7 8 9]]\n",
      "\n"
     ]
    }
   ],
   "source": [
    "# Escalar em python\n",
    "a = 1\n",
    "b = 2.5\n",
    "c = 1/4\n",
    "\n",
    "# Vetores\n",
    "vetor = np.array([1, 2, 3, 4, 5])\n",
    "print(\"Vetor \\n {}\\n\".format(vetor))\n",
    "\n",
    "# Matrizes\n",
    "matriz = np.array([[4, 5, 6],[9, 8, 7]])\n",
    "print(\"Matriz \\n {}\\n\".format(matriz))\n",
    "\n",
    "# Tensores\n",
    "tensor = np.array([[1,2,3], [4,5,6],[7,8,9]])\n",
    "print(\"Tensor \\n {}\\n\".format(tensor))"
   ]
  },
  {
   "cell_type": "markdown",
   "metadata": {
    "slideshow": {
     "slide_type": "slide"
    }
   },
   "source": [
    "## Criação de arranjos (arrays)\n",
    "\n",
    "Existem diversas maneiras de se criar arrays e cada uma delas possui um propósito específico. Abaixo segue a documentção em \n",
    "\n",
    "[Routinas para criação de arrays](https://docs.scipy.org/doc/numpy-1.14.0/reference/routines.array-creation.html)\n",
    "\n",
    "### Usando sequência\n",
    "[Documentação do Numpy arange](https://docs.scipy.org/doc/numpy-.14.0/reference/generated/numpy.arange.html)\n"
   ]
  },
  {
   "cell_type": "code",
   "execution_count": 4,
   "metadata": {
    "slideshow": {
     "slide_type": "subslide"
    }
   },
   "outputs": [
    {
     "name": "stdout",
     "output_type": "stream",
     "text": [
      "Matriz aleatória 2x2\n",
      " [[0.92961609 0.31637555]\n",
      " [0.18391881 0.20456028]] \n",
      "\n"
     ]
    }
   ],
   "source": [
    "# Usando sequência\n",
    "np.arange(10)\n",
    "\n",
    "# Vetores aleatorios\n",
    "# gerando uma semente para os pseudo aleatórios\n",
    "np.random.seed(12345)\n",
    "\n",
    "# Vetores aleatórios de um determinado formato\n",
    "\n",
    "matriz_2_2 = np.random.rand(2,2)\n",
    "\n",
    "print(\"Matriz aleatória 2x2\\n {} \\n\".format(matriz_2_2))"
   ]
  },
  {
   "cell_type": "markdown",
   "metadata": {},
   "source": [
    "### Vetores aleatórios\n",
    "[Funções diversas para geração de vetores aleatórios](https://docs.scipy.org/doc/numpy/reference/routines.random.html)"
   ]
  },
  {
   "cell_type": "code",
   "execution_count": 5,
   "metadata": {
    "slideshow": {
     "slide_type": "fragment"
    }
   },
   "outputs": [
    {
     "name": "stdout",
     "output_type": "stream",
     "text": [
      "Vetor de inteiros aleatório entre 0 e 10, de tamanho 5\n",
      " [5 2 1 6 1]\n",
      "\n"
     ]
    }
   ],
   "source": [
    "# Retorna um vetor de inteiros entre menor e maior, excluindo maior\n",
    "\n",
    "vetor_aleatorio = np.random.randint(low=0, high=10, size=5)\n",
    "\n",
    "print(\"Vetor de inteiros aleatório entre 0 e 10, de tamanho 5\\n {}\\n\".format(vetor_aleatorio))"
   ]
  },
  {
   "cell_type": "code",
   "execution_count": 6,
   "metadata": {
    "slideshow": {
     "slide_type": "fragment"
    }
   },
   "outputs": [
    {
     "name": "stdout",
     "output_type": "stream",
     "text": [
      "Tensor aleatório de dimensões 3x4x2 \n",
      " [[[0.6531771  0.74890664]\n",
      "  [0.65356987 0.74771481]\n",
      "  [0.96130674 0.0083883 ]\n",
      "  [0.10644438 0.29870371]]\n",
      "\n",
      " [[0.65641118 0.80981255]\n",
      "  [0.87217591 0.9646476 ]\n",
      "  [0.72368535 0.64247533]\n",
      "  [0.71745362 0.46759901]]\n",
      "\n",
      " [[0.32558468 0.43964461]\n",
      "  [0.72968908 0.99401459]\n",
      "  [0.67687371 0.79082252]\n",
      "  [0.17091426 0.02684928]]]\n",
      "\n"
     ]
    }
   ],
   "source": [
    "# Retorna um vetor de números flutuantes\n",
    "\n",
    "tensor_flut = np.random.random((3,4,2))\n",
    "\n",
    "print(\"Tensor aleatório de dimensões 3x4x2 \\n {}\\n\".format(tensor_flut))"
   ]
  },
  {
   "cell_type": "markdown",
   "metadata": {},
   "source": [
    "### Vetor de zeros, uns e vazios\n",
    "[Gerador de arrays de zeros](https://docs.scipy.org/doc/numpy/reference/generated/numpy.zeros.html#numpy.zeros)\n",
    "\n",
    "[Gerador de arrays de uns](https://docs.scipy.org/doc/numpy/reference/generated/numpy.ones.html#numpy.ones)\n",
    "\n",
    "[Vazios](https://docs.scipy.org/doc/numpy/reference/generated/numpy.empty_like.html#numpy.empty)"
   ]
  },
  {
   "cell_type": "code",
   "execution_count": 7,
   "metadata": {
    "slideshow": {
     "slide_type": "fragment"
    }
   },
   "outputs": [
    {
     "name": "stdout",
     "output_type": "stream",
     "text": [
      "Matriz de zeros, dimensões 5x2 \n",
      "[[0. 0.]\n",
      " [0. 0.]\n",
      " [0. 0.]\n",
      " [0. 0.]\n",
      " [0. 0.]]\n",
      " \n"
     ]
    }
   ],
   "source": [
    "# Cria um vetor de zeros com determinado formato\n",
    "vetor_zeros = np.zeros((5,2))\n",
    "print(\"Matriz de zeros, dimensões 5x2 \\n{}\\n \".format(vetor_zeros))"
   ]
  },
  {
   "cell_type": "markdown",
   "metadata": {},
   "source": [
    "### Gerar arrays om base em arrays existentes\n",
    "\n",
    "[Zeros like](https://docs.scipy.org/doc/numpy/reference/generated/numpy.zeros_like.html#numpy.zeros_like)\n",
    "\n",
    "[Uns Like](https://docs.scipy.org/doc/numpy/reference/generated/numpy.ones_like.html#numpy.ones_like)\n",
    "\n",
    "[Vazios like](https://docs.scipy.org/doc/numpy/reference/generated/numpy.empty_like.html#numpy.empty_like)"
   ]
  },
  {
   "cell_type": "code",
   "execution_count": 8,
   "metadata": {
    "slideshow": {
     "slide_type": "fragment"
    }
   },
   "outputs": [
    {
     "name": "stdout",
     "output_type": "stream",
     "text": [
      "Matriz de Uns, dimensões 4x3 \n",
      "[[1. 1. 1.]\n",
      " [1. 1. 1.]\n",
      " [1. 1. 1.]\n",
      " [1. 1. 1.]]\n",
      "\n"
     ]
    }
   ],
   "source": [
    "# Cria um vetor de uns com determinado formato\n",
    "matriz_uns = np.ones((4,3))\n",
    "print(\"Matriz de Uns, dimensões 4x3 \\n{}\\n\".format(matriz_uns))"
   ]
  },
  {
   "cell_type": "code",
   "execution_count": 9,
   "metadata": {
    "slideshow": {
     "slide_type": "subslide"
    }
   },
   "outputs": [
    {
     "name": "stdout",
     "output_type": "stream",
     "text": [
      "Tensor vazio, dimensões 3x4x2 \n",
      "[[[0.6531771  0.74890664]\n",
      "  [0.65356987 0.74771481]\n",
      "  [0.96130674 0.0083883 ]\n",
      "  [0.10644438 0.29870371]]\n",
      "\n",
      " [[0.65641118 0.80981255]\n",
      "  [0.87217591 0.9646476 ]\n",
      "  [0.72368535 0.64247533]\n",
      "  [0.71745362 0.46759901]]\n",
      "\n",
      " [[0.32558468 0.43964461]\n",
      "  [0.72968908 0.99401459]\n",
      "  [0.67687371 0.79082252]\n",
      "  [0.17091426 0.02684928]]]\n",
      "\n"
     ]
    }
   ],
   "source": [
    "# Cria um vetor vazio com um determinado formato\n",
    "tensor_vazio = np.empty((3,4,2))\n",
    "print(\"Tensor vazio, dimensões 3x4x2 \\n{}\\n\".format(tensor_vazio))"
   ]
  },
  {
   "cell_type": "code",
   "execution_count": 10,
   "metadata": {
    "slideshow": {
     "slide_type": "subslide"
    }
   },
   "outputs": [
    {
     "name": "stdout",
     "output_type": "stream",
     "text": [
      "Vetor de zeros como modelo \n",
      " [0 0 0 0 0]\n",
      "Matriz de uns como modelo \n",
      " [[1 1 1]\n",
      " [1 1 1]]\n",
      "Tensor de vazio como modelo \n",
      " [[              0 139624158125992 139624351602928]\n",
      " [139624292491368 139624299337520 139623750358104]\n",
      " [ 94252534120096  94252534120352              80]]\n"
     ]
    }
   ],
   "source": [
    "# Criando vetores com base em vetores existentes\n",
    "print(\"Vetor de zeros como modelo \\n {}\".format(np.zeros_like(vetor)))\n",
    "print(\"Matriz de uns como modelo \\n {}\".format(np.ones_like(matriz)))\n",
    "print(\"Tensor de vazio como modelo \\n {}\".format(np.empty_like(tensor)))"
   ]
  },
  {
   "cell_type": "markdown",
   "metadata": {},
   "source": [
    "## Operações\n",
    "## Indices, fatiamento(slices) e iteração"
   ]
  },
  {
   "cell_type": "code",
   "execution_count": 11,
   "metadata": {},
   "outputs": [
    {
     "name": "stdout",
     "output_type": "stream",
     "text": [
      "Selecionando limite superior:\n",
      " [5 3 0 6 8]\n",
      "\n",
      "Selecionando limite inferior: \n",
      "[0 5 6 8 9]\n",
      "\n",
      "Selecionando uma intervalo: \n",
      "[6 8 0 5 6]\n",
      "\n",
      "Avançando com passo 2: \n",
      "[5 0 8 5 8]\n",
      "\n",
      "Invertendo o vetor: \n",
      "[5 3 0 6 8 0 5 6 8]\n",
      "\n"
     ]
    }
   ],
   "source": [
    "vetor_rand=np.random.randint(0,10,10)\n",
    "# Seleção de intervalos\n",
    "# Selecionando intervalo máximo excluindo valor no indice máximo\n",
    "print(\"Selecionando limite superior:\\n {}\\n\".format(vetor_rand[:5]))\n",
    "\n",
    "# Selecionando intervalo com mínimo\n",
    "print(\"Selecionando limite inferior: \\n{}\\n\".format(vetor_rand[5:]))\n",
    "\n",
    "# Selecionando uma faixa \n",
    "print(\"Selecionando uma intervalo: \\n{}\\n\".format(vetor_rand[3:8]))\n",
    "\n",
    "# Selecionando um passo de avanço\n",
    "print(\"Avançando com passo 2: \\n{}\\n\".format(vetor_rand[::2]))\n",
    "\n",
    "# Inversão\n",
    "print(\"Invertendo o vetor: \\n{}\\n\".format(vetor_rand[:-1]))"
   ]
  },
  {
   "cell_type": "markdown",
   "metadata": {},
   "source": [
    "### Iterando sobre arrays\n",
    "\n",
    "Para iterar sobre um array, pode-se utilizar qualquer um dos controles de fluxo disponíveis em python. **For**, **While**"
   ]
  },
  {
   "cell_type": "code",
   "execution_count": 12,
   "metadata": {},
   "outputs": [
    {
     "name": "stdout",
     "output_type": "stream",
     "text": [
      "1\n",
      "2\n",
      "3\n",
      "4\n",
      "5\n"
     ]
    }
   ],
   "source": [
    "# Iteração sobre vetores\n",
    "for elemento in vetor:\n",
    "    print(elemento)"
   ]
  },
  {
   "cell_type": "code",
   "execution_count": 13,
   "metadata": {},
   "outputs": [
    {
     "name": "stdout",
     "output_type": "stream",
     "text": [
      "Imprimindo linhas\n",
      "[4 5 6]\n",
      "[9 8 7]\n",
      "Imprimindo elementos\n",
      "4 5 6 \n",
      "\n",
      "9 8 7 \n",
      "\n"
     ]
    }
   ],
   "source": [
    "# Iteração sobre matrizes\n",
    "print('Imprimindo linhas')\n",
    "for linha in matriz:\n",
    "    print(linha)\n",
    "    \n",
    "print('Imprimindo elementos')\n",
    "for linha in matriz:\n",
    "    for elemento in linha:\n",
    "        # imprimindo elementos em uma mesma linha\n",
    "        print(elemento, end=' ')\n",
    "    # inserindo uma quebra de linha\n",
    "    print('\\n')\n",
    "    "
   ]
  },
  {
   "cell_type": "markdown",
   "metadata": {},
   "source": [
    "### Usando iter\n",
    "Uma outra forma para iteragir sobre estruturas é utilizando o a função [iter](https://docs.python.org/3.3/library/functions.html#iter)\n",
    "iter transforma uma estrutura em um iterador (iterator). Dessa forma, o acesso ao elemento se faz através da função next. Veremos a seguir"
   ]
  },
  {
   "cell_type": "code",
   "execution_count": 14,
   "metadata": {},
   "outputs": [
    {
     "name": "stdout",
     "output_type": "stream",
     "text": [
      "1\n",
      "2\n",
      "3\n"
     ]
    }
   ],
   "source": [
    "# Iteração utilizando iter\n",
    "iterador = iter(vetor)\n",
    "\n",
    "print(next(iterador))\n",
    "print(next(iterador))\n",
    "print(next(iterador))\n"
   ]
  },
  {
   "cell_type": "markdown",
   "metadata": {},
   "source": [
    "## Redimensionamento de arrays\n",
    "Podemos utilizar operações para obter arrays similares aos arrays originais."
   ]
  },
  {
   "cell_type": "code",
   "execution_count": 15,
   "metadata": {},
   "outputs": [
    {
     "name": "stdout",
     "output_type": "stream",
     "text": [
      "Propriedades do vetor: Tamanho: 5, Dimensão(5,)\n",
      "Propriedades da matriz: Tamanho: 6, Dimensão(2, 3)\n",
      "Propriedades do tensor: Tamanho: 9, Dimensão(3, 3)\n"
     ]
    }
   ],
   "source": [
    "# Obtendo as formas\n",
    "# Propriedades Tamanho e dimensões\n",
    "print(\"Propriedades do vetor: Tamanho: {}, Dimensão{}\".format(vetor.size, vetor.shape))\n",
    "print(\"Propriedades da matriz: Tamanho: {}, Dimensão{}\".format(matriz.size, matriz.shape))\n",
    "print(\"Propriedades do tensor: Tamanho: {}, Dimensão{}\".format(tensor.size, tensor.shape))"
   ]
  },
  {
   "cell_type": "markdown",
   "metadata": {},
   "source": [
    "### Planificação\n",
    "É o procedimento para transformar matrizes e tensores em vetores. Ou seja, transformar arrays multidimensionais em arrays unidimensionais\n"
   ]
  },
  {
   "cell_type": "code",
   "execution_count": 16,
   "metadata": {},
   "outputs": [
    {
     "name": "stdout",
     "output_type": "stream",
     "text": [
      "Matriz planificada: \n",
      " [4 5 6 9 8 7] \n",
      "\n",
      "Tensor planificado: \n",
      " [1 2 3 4 5 6 7 8 9] \n",
      "\n"
     ]
    }
   ],
   "source": [
    "# Planificando uma matriz ou tensor\n",
    "print(\"Matriz planificada: \\n {} \\n\".format(matriz.ravel()))\n",
    "print(\"Tensor planificado: \\n {} \\n\".format(tensor.ravel()))"
   ]
  },
  {
   "cell_type": "markdown",
   "metadata": {},
   "source": [
    "### Transformação de dimensões\n",
    "\n",
    "Podemos transformar arrays de uma dimensão $(m,n)$ de tal forma que o número sempre seja um divisor de $m*n$.\n",
    "\n",
    "Quando se pretende transformar apenas uma das coordenadas, informamos o valor $(-1)$, a outra dimensão será calculada automaticamente\n",
    "\n",
    "Dois métodos são utilizados para transformar as dimensões de um arrays **reshape** e **resize**"
   ]
  },
  {
   "cell_type": "code",
   "execution_count": 17,
   "metadata": {},
   "outputs": [
    {
     "name": "stdout",
     "output_type": "stream",
     "text": [
      "Modificando a forma da matriz \n",
      "[[4 5 6]\n",
      " [9 8 7]]\n",
      "\n",
      "Matriz original \n",
      "[[4 5 6]\n",
      " [9 8 7]]\n",
      "\n"
     ]
    }
   ],
   "source": [
    "# Reshape, não modifica o array original, apenas retorna o novo formato\n",
    "print(\"Modificando a forma da matriz \\n{}\\n\".format(matriz.reshape(2,3)))\n",
    "print(\"Matriz original \\n{}\\n\".format(matriz))"
   ]
  },
  {
   "cell_type": "code",
   "execution_count": 18,
   "metadata": {},
   "outputs": [
    {
     "name": "stdout",
     "output_type": "stream",
     "text": [
      "Usando reshape, o retorno é None\n",
      "None\n",
      "\n",
      "Mas a mudança foi feita na matriz em si\n",
      "[[4 5]\n",
      " [6 9]\n",
      " [8 7]]\n",
      " \n"
     ]
    }
   ],
   "source": [
    "# Resize modifica o array em si mesmo\n",
    "print(\"Usando reshape, o retorno é None\\n{}\\n\".format(matriz.resize((3,2))))\n",
    "print(\"Mas a mudança foi feita na matriz em si\\n{}\\n \".format(matriz))"
   ]
  },
  {
   "cell_type": "markdown",
   "metadata": {},
   "source": [
    "## Broadcasting ou propagação\n",
    "\n",
    "Estes termos são utilizados para descrever como o NumPy trata operações aritméticas com arrays de formas diferentes. O array menor propaga sobre o maior, caso eles tenham dimensões compatíveis.\n",
    "\n",
    "\n",
    "### Regras gerais de propagação\n",
    "\n",
    "Quando for realizar operações com dois arrays, NumPy compara os as dimensões elemento a elemento. Começando pela dimensão mais ao final.\n",
    "Duas dimensões são compatíveis quando\n",
    "\n",
    "1. Elas são iguais, ou\n",
    "2. Uma delas é 1\n",
    "\n",
    "OU seja, exemplificando em termos de dimensões temos que a propagação funciona em sistemas com dimensões como no exmplo abaixo:\n",
    "    5 x 1 e 1\n",
    "    3 x 2 e 2\n",
    "4 x 2 x 3 e 1\n",
    "4 x 2 x 3 e 3\n",
    "4 x 2 x 3 e 4 x 1 x 1\n",
    "4 x 2 x 3 e 4 x 1 x 3\n",
    "\n",
    "E por aí vai. Confuso não?! Nos exemplos espero deixar um pouco mais claro.\n",
    "\n",
    "[Documentação aqui](https://docs.scipy.org/doc/numpy-1.10.1/user/basics.broadcasting.html)\n",
    "\n",
    "[Ilustração dos conceitos de Broadcast(em inglês)](http://scipy.github.io/old-wiki/pages/EricsBroadcastingDoc)"
   ]
  },
  {
   "cell_type": "code",
   "execution_count": 19,
   "metadata": {},
   "outputs": [
    {
     "data": {
      "text/plain": [
       "array([[18, 50, 82, 57],\n",
       "       [46, 58, 23, 21],\n",
       "       [ 7, 81, 63,  0],\n",
       "       [90, 44, 57, 14],\n",
       "       [26, 43, 30, 99]])"
      ]
     },
     "execution_count": 19,
     "metadata": {},
     "output_type": "execute_result"
    }
   ],
   "source": [
    "# Exemplos de broadcast\n",
    "np.random.randint(0,100,size=20).reshape(5,4)"
   ]
  },
  {
   "cell_type": "markdown",
   "metadata": {},
   "source": [
    "### Transposição de matrizes\n",
    "\n",
    "Transposição de uma matriz consiste em uma matriz espelho da original, através da diagonal principal. A transposta é obitida trocando-se a posição das linhas e colunas. Denota-se a tranposta da matriz **A** por $ A^T $\n",
    "\n",
    "\n",
    "[Função transpose do Numpy](https://docs.scipy.org/doc/numpy-1.14.0/reference/generated/numpy.transpose.html)"
   ]
  },
  {
   "cell_type": "code",
   "execution_count": 20,
   "metadata": {},
   "outputs": [
    {
     "name": "stdout",
     "output_type": "stream",
     "text": [
      "Matriz \n",
      " [[4 5]\n",
      " [6 9]\n",
      " [8 7]]\n",
      "Matriz Transposta \n",
      " [[4 6 8]\n",
      " [5 9 7]]\n"
     ]
    }
   ],
   "source": [
    "print(\"Matriz \\n {}\".format(matriz))\n",
    "print(\"Matriz Transposta \\n {}\".format(np.transpose(matriz)))"
   ]
  },
  {
   "cell_type": "code",
   "execution_count": 21,
   "metadata": {},
   "outputs": [
    {
     "name": "stdout",
     "output_type": "stream",
     "text": [
      "Tensor \n",
      " [[1 2 3]\n",
      " [4 5 6]\n",
      " [7 8 9]]\n",
      "Tensor Transposto, usando a forma simplificada \n",
      " [[1 4 7]\n",
      " [2 5 8]\n",
      " [3 6 9]]\n"
     ]
    }
   ],
   "source": [
    "print(\"Tensor \\n {}\".format(tensor))\n",
    "print(\"Tensor Transposto, usando a forma simplificada \\n {}\".format(tensor.T))"
   ]
  },
  {
   "cell_type": "markdown",
   "metadata": {},
   "source": [
    "## Operações com escalares\n",
    "\n",
    "Para realizar operações com escalares, basta propagar o escalar pelo array, \n",
    "executando a operação com cada elemento do array e o escalar\n",
    "\n",
    "$$ \\begin{vmatrix} 1\\ 2 \\\\ 3\\ 4 \\end{vmatrix} * 2 = \\begin{vmatrix} 2\\ 4 \\\\ 6\\ 8 \\end{vmatrix}$$\n"
   ]
  },
  {
   "cell_type": "code",
   "execution_count": 22,
   "metadata": {},
   "outputs": [
    {
     "name": "stdout",
     "output_type": "stream",
     "text": [
      "Multiplicando o vetor por 3: \n",
      "[ 3  6  9 12 15]\n",
      "\n",
      "Somando 10 a matriz: \n",
      " [[14 15]\n",
      " [16 19]\n",
      " [18 17]] \n",
      "\n",
      "Dividindo o tensor por 5: \n",
      " [[0.2 0.4 0.6]\n",
      " [0.8 1.  1.2]\n",
      " [1.4 1.6 1.8]] \n",
      "\n"
     ]
    }
   ],
   "source": [
    "# Operação com escalares\n",
    "# Aplica o conceito de propagação\n",
    "print(\"Multiplicando o vetor por 3: \\n{}\\n\".format(vetor * 3))\n",
    "print(\"Somando 10 a matriz: \\n {} \\n\".format(matriz + 10))\n",
    "print(\"Dividindo o tensor por 5: \\n {} \\n\".format(tensor / 5))"
   ]
  },
  {
   "cell_type": "markdown",
   "metadata": {},
   "source": [
    "### Soma e subtração \n",
    "\n",
    "Em álgebra, a soma de elementos de um array é feita realizando esta operação elemento a elemento ocupando a mesma posição em seus respectivos arrays. Por exemplo\n",
    "\n",
    "\n",
    "$$\\begin{vmatrix} 1\\ 2 \\\\\\ 3\\ 4 \\end{vmatrix}  + \\begin{vmatrix} 5\\ 6 \\\\\\ 7\\ 8 \\end{vmatrix} = \\begin{vmatrix} 6\\ 8 \\\\\\ 10\\ 14 \\end{vmatrix}$$\n",
    "\n",
    "Em álgebra realizamos a soma de matrizes de mesma dimensões, mas no NumPy temos que lembrar que existe a propagação. Respeitando suas regras, existirá uma propagação das menores dimensões. "
   ]
  },
  {
   "cell_type": "code",
   "execution_count": 23,
   "metadata": {},
   "outputs": [
    {
     "name": "stdout",
     "output_type": "stream",
     "text": [
      "[ 7  5  5 11 13]\n",
      "[ 7  5  5 11 13]\n"
     ]
    }
   ],
   "source": [
    "# Usando arrays de mesmo tamanho\n",
    "vetor1 = np.array([1,2,3,4,5])\n",
    "vetor2 = np.array([6,3,2,7,8])\n",
    "\n",
    "print(np.add(vetor1, vetor2))\n",
    "print(vetor1 + vetor2)\n"
   ]
  },
  {
   "cell_type": "code",
   "execution_count": 24,
   "metadata": {},
   "outputs": [
    {
     "name": "stdout",
     "output_type": "stream",
     "text": [
      "[-5 -1  1 -3 -3]\n",
      "[-5 -1  1 -3 -3]\n"
     ]
    }
   ],
   "source": [
    "print(np.subtract(vetor1, vetor2))\n",
    "print(vetor1 - vetor2)"
   ]
  },
  {
   "cell_type": "code",
   "execution_count": 25,
   "metadata": {},
   "outputs": [
    {
     "data": {
      "text/plain": [
       "array([[ 1.,  2.,  3.,  4.,  5.],\n",
       "       [ 6.,  7.,  8.,  9., 10.]])"
      ]
     },
     "execution_count": 25,
     "metadata": {},
     "output_type": "execute_result"
    }
   ],
   "source": [
    "# Usando arrays de tamanhos diferentes\n",
    "matriz1 = np.arange(10).reshape(2,5)\n",
    "vetor_uns = np.ones(5)\n",
    "matriz1 + vetor_uns"
   ]
  },
  {
   "cell_type": "markdown",
   "metadata": {},
   "source": [
    "### Multiplicação de matrizes e vetores\n",
    "Multiplicação de matrizes é algo que necessita de um pouco mais de manejo. Infelizmente não é tão direta como a soma, onde o requisito é que as dimensões sejam iguais. \n",
    "\n",
    "Os requisitos para multiplicação de matrizes é que o número de colunas da primeira matriz seja igual o número de linhas da segundo, ou seja, \n",
    "Seja uma matriz $A_{i,j}$ e uma matriz $B_{j,l}$, teremos como resultado da multiplicação uma matriz $C_{i,l}$, assim:\n",
    "$$ A_{i,j} * B_{j,l} = C_{i,l} $$\n"
   ]
  },
  {
   "cell_type": "code",
   "execution_count": 26,
   "metadata": {},
   "outputs": [
    {
     "name": "stdout",
     "output_type": "stream",
     "text": [
      "[[ 6  6  6 28 40]]\n",
      "[ 6  6  6 28 40]\n",
      "[[6 3 2 7 8]]\n"
     ]
    }
   ],
   "source": [
    "# Usando arrays de mesmo tamanho\n",
    "print(np.multiply(vetor1, vetor2.reshape(1,5)))\n",
    "print(vetor1 * vetor2)\n",
    "print(vetor2.reshape(1,-1))"
   ]
  },
  {
   "cell_type": "code",
   "execution_count": 27,
   "metadata": {},
   "outputs": [
    {
     "name": "stdout",
     "output_type": "stream",
     "text": [
      "[0.16666667 0.66666667 1.5        0.57142857 0.625     ]\n",
      "[0 0 1 0 0]\n"
     ]
    }
   ],
   "source": [
    "print(np.divide(vetor1, vetor2))\n",
    "print(vetor1 // vetor2)"
   ]
  },
  {
   "cell_type": "markdown",
   "metadata": {},
   "source": [
    "### Matriz identidade\n",
    "\n",
    "Matriz identidade é uma matriz que possui sua diagonal principal igual a 1 e os demais elementos igual a zero. Ou seja, é uma matriz que não altera nenhum vetor, quando for este for multiplicado por ela. O NumPy gera essa matriz através da função numpy.identity\n",
    "\n",
    "[Matriz identidade](https://docs.scipy.org/doc/numpy-1.14.0/reference/generated/numpy.identity.html)"
   ]
  },
  {
   "cell_type": "code",
   "execution_count": 35,
   "metadata": {},
   "outputs": [
    {
     "data": {
      "text/plain": [
       "array([[1., 0., 0.],\n",
       "       [0., 1., 0.],\n",
       "       [0., 0., 1.]])"
      ]
     },
     "execution_count": 35,
     "metadata": {},
     "output_type": "execute_result"
    }
   ],
   "source": [
    "np.identity(3)"
   ]
  },
  {
   "cell_type": "markdown",
   "metadata": {},
   "source": [
    " ### Matriz inversa\n",
    " \n",
    " Matriz inveza, também denotada como $A^{-1}$ é a matriz que, ao multiplicar a matriz $A$, resulta em uma matriz identidade. \n",
    " \n",
    "Em NumPy, a matriz inversa pode ser obtida através da função [numpy.linalg.inv](https://docs.scipy.org/doc/numpy-1.14.0/reference/generated/numpy.linalg.inv.html)"
   ]
  },
  {
   "cell_type": "code",
   "execution_count": 42,
   "metadata": {},
   "outputs": [
    {
     "data": {
      "text/plain": [
       "array([[-0.03703704,  0.18518519],\n",
       "       [ 0.22222222, -0.11111111]])"
      ]
     },
     "execution_count": 42,
     "metadata": {},
     "output_type": "execute_result"
    }
   ],
   "source": [
    "m = np.array([3,5,6,1]).reshape(2,2)\n",
    "np.linalg.inv(m)"
   ]
  },
  {
   "cell_type": "markdown",
   "metadata": {},
   "source": [
    "## Trabalhando com cópias e visões (views)"
   ]
  },
  {
   "cell_type": "markdown",
   "metadata": {},
   "source": [
    "## Referências\n",
    "\n",
    "### Em Português\n",
    "\n",
    "1. https://pt.khanacademy.org/math/linear-algebra\n",
    "2. https://www.youtube.com/watch?v=pbFZW1eTnkk\n",
    "\n",
    "### Em Inglês\n",
    "\n",
    "1. http://www.deeplearningbook.org/contents/linear_algebra.html\n",
    "2. https://www.analyticsvidhya.com/blog/2017/05/comprehensive-guide-to-linear-algebra/\n",
    "3. https://towardsdatascience.com/boost-your-data-sciences-skills-learn-linear-algebra-2c30fdd008cf\n"
   ]
  }
 ],
 "metadata": {
  "kernelspec": {
   "display_name": "Python 3",
   "language": "python",
   "name": "python3"
  },
  "language_info": {
   "codemirror_mode": {
    "name": "ipython",
    "version": 3
   },
   "file_extension": ".py",
   "mimetype": "text/x-python",
   "name": "python",
   "nbconvert_exporter": "python",
   "pygments_lexer": "ipython3",
   "version": "3.5.3"
  }
 },
 "nbformat": 4,
 "nbformat_minor": 2
}
