{
 "cells": [
  {
   "cell_type": "markdown",
   "metadata": {},
   "source": [
    "## Revisão - Expressão regular (Python)"
   ]
  },
  {
   "cell_type": "markdown",
   "metadata": {},
   "source": [
    "![image.png](img/01.png)"
   ]
  },
  {
   "cell_type": "markdown",
   "metadata": {},
   "source": [
    "### Introdução\n",
    "\n",
    "- Expressão Regular: Um método formal de se especificar um padrão de texto.\n",
    "\n",
    "\n",
    "- Expressão Regular: Como o brinquedo LEGO, várias pecinhas diferentes, cada uma com sua característica, que juntas compõem estruturas completas e podem ser arranjadas com infinitas combinações diferentes.\n",
    "\n",
    "\n",
    "- Expressão Regular: Uma composição de símbolos, caracteres com funções especiais, que, agrupados entre si e com caracteres literais, formam uma seqüência, uma expressão. Essa expressão é interpretada como uma regra, que indicará sucesso se uma entrada de dados qualquer casar com essa regra, ou seja, obedecer exatamente a todas as suas condições.\n",
    "\n",
    "###### Fonte: Aurelio\n",
    "\n",
    "#### Anatomia básica de uma expressão regular\n",
    "\n",
    "![image.png](img/02.png)"
   ]
  },
  {
   "cell_type": "markdown",
   "metadata": {},
   "source": [
    "### Tabela de caracteres/estruturas especiais\n",
    "\n",
    "##### Notas\n",
    "- Comumente letras em maiúsculo tem o significado contrário de seus respectivos caracteres minúsculos;\n",
    "- String é um texto qualquer;\n",
    "- Fronteira são caracteres não alfanuméricos;\n",
    "- Coincidência ou match é o ato de um conjunto de texto ser válido para uma determinada expressão regular.\n"
   ]
  },
  {
   "cell_type": "markdown",
   "metadata": {},
   "source": [
    "|Caractere |\tSignificado                                                                       |\n",
    "|----------|---------------------------------------------------------------------------------------\n",
    "|\\b\t| Fronteira de palavra (início ou fim de uma palavra). |\n",
    "|\\B\t| Não é uma fronteira de palavra (não início ou não fim de uma palavra). |\n",
    "|^\t| Início de uma palavra ou linha ou negação quando em uma expressão agrupada (entre []).|\n",
    "|$\t| Fim de uma linha.|\n",
    "|\\w\t| Caracteres alfanuméricos e underline ([A-Za-z0-9_]).|\n",
    "|\\W\t| Caracteres não alfanuméricos e underline ([^A-Za-z0-9_]).|\n",
    "|\\d\t| Coincide apenas dígitos ([0-9]).|\n",
    "|\\D\t| Coincide apenas não dígitos ([^0-9]).|\n",
    "|\\s\t| Coincide qualquer caracter de espaço em branco.|\n",
    "|\\S\t| Coincide qualquer caracter que não seja de espaço em branco.|\n",
    "|\\A\t| A coincidência ocorre no primeiro caractere.|\n",
    "|\\Z\t| A coincidência ocorre no final do último caractere de uma string ou linha (antes de \\n).|\n",
    "|\\z\t| A coincidência ocorre no final do último caractere de uma string, ignorando linhas.|\n",
    "|\\G\t| A coincidência ocorre a partir do ponto no qual a última coincidência terminou.|\n",
    "|\\t\t| TAB.|\n",
    "|\\n\t| Nova linha.|\n",
    "|[\\b] |\tBackspace.|\n",
    "|\\r\t| Retorno de carro.|\n",
    "|\\\t| Quando seguido de um caractere especial das expressões regulares, realiza coincidência daquele caractere.|\n",
    "|*\t| Coincidência dos caracteres precedidos ZERO ou mais vezes.|\n",
    "|+\t| Coincidência dos caracteres precedidos UMA ou mais vezes.|\n",
    "|{n}\t| Coincidência dos caracteres precedidos exatamente n vezes.|\n",
    "|{n,m} | Coincidência dos caracteres precedidos entre n (número mínimo de repetições) e m (número máximo de repetições) vezes. Pode-se deixar vazios tanto n ({,m}) quanto m ({n,}), o que causa coincidência apenas com o valor indicado.|\n",
    "|?\t| Caracteres precedentes são opcionais. Equivale a {0,1}.|\n",
    "|.\t| Coincide qualquer caracter.|\n",
    "|[ ]\t| Utilizado para agrupamento de expressões.|\n",
    "|[caracteres] |\tCoincidência de quaisquer caracteres presentes entre os colchetes.|\n",
    "|[c1-c2]\t| Coincidência de quaisquer caracteres alfanuméricos entre c1 e c2 (em order alfabética/numérica).|\n",
    "|x\"pip\"y\t| Coincide os caracteres x ou y.|\n",
    "|( )\t| Utilizado para agrupamento de caracteres. Cria um grupo não nomeado.|"
   ]
  },
  {
   "cell_type": "markdown",
   "metadata": {},
   "source": [
    "#### Operadores aprendidos em aula"
   ]
  },
  {
   "cell_type": "markdown",
   "metadata": {},
   "source": [
    "![image.png](img/04.png)\n",
    "\n",
    "Dito em aula que também existe o () sig. agrupamento"
   ]
  },
  {
   "cell_type": "markdown",
   "metadata": {},
   "source": [
    "#### FindIter"
   ]
  },
  {
   "cell_type": "code",
   "execution_count": null,
   "metadata": {},
   "outputs": [],
   "source": [
    "# Expressões regulares em Python\n",
    "\n",
    "# importando o módulo de expressão regular\n",
    "import re"
   ]
  },
  {
   "cell_type": "code",
   "execution_count": null,
   "metadata": {},
   "outputs": [],
   "source": [
    "alunos = '''\n",
    "Camila Morais de Melo\n",
    "Cristiane de Massena\n",
    "Daniel Magalhães Bicalho\n",
    "Sandra Pereira\n",
    "Renata Williams\n",
    "Philipe Augusto Ferreira\n",
    "Cleiriane\n",
    "Vania\n",
    "Solange\n",
    "Juciana\n",
    "Lucas Ribeiro\n",
    "Lair\n",
    "Julia Dornas\n",
    "Juliana Soares Viana\n",
    "DYEGO SOUZA\n",
    "Pedro Henrique Lourencini\n",
    "Jéssica Veiga\n",
    "RENATA SANTANA DIAS\n",
    "Paula\n",
    "Anderson\n",
    "Rudyard Sarquis\n",
    "JESSICA BARBOSA DAS CHAGAS\n",
    "Rafael\n",
    "Thiago Silva Mendes\n",
    "Edvandro\n",
    "Alisson Batista Oliveira\n",
    "Daiane França\n",
    "Valmir Batista Prestes de Souza\n",
    "Andre Emidio\n",
    "Anderson Aparecido Tossani\n",
    "Luís Vinícius Costa Damaceno\n",
    "Adolfo\n",
    "George Moraes\n",
    "Nicholas Correa\n",
    "Dieison Gularte\n",
    "Milena Merlo Rodrigues\n",
    "Pedro\n",
    "Adriano\n",
    "Julio Freitas\n",
    "Tulio Nogueira\n",
    "Inácio Américo Gomes Slompo\n",
    "'''\n",
    "\n",
    "pattern = \"[A-Z][a-z].+\"\n",
    "for macth in re.finditer(pattern,alunos):\n",
    "    print(macth)"
   ]
  },
  {
   "cell_type": "markdown",
   "metadata": {},
   "source": [
    "![image.png](img/05.png)"
   ]
  },
  {
   "cell_type": "code",
   "execution_count": null,
   "metadata": {},
   "outputs": [],
   "source": [
    "# importando o módulo de expressão regular\n",
    "import re\n",
    "\n",
    "html = '''exclamation\t!\tU+0021 (33)\tHTML 2.0\t(Refer HTML5 W3School)\tISOnum\texclamation mark\n",
    "quot\t\"\tU+0022 (34)\tHTML 2.0\tHTMLspecial\tISOnum\tquotation mark (APL quote)'''\n",
    "\n",
    "pattern = \"(\\w+)\\t(.)\\tU\\+0*(\\w+) \\(\\d+\\)\\t.*$\"\n",
    "for macth in re.finditer(pattern,html):\n",
    "    print(macth)"
   ]
  },
  {
   "cell_type": "markdown",
   "metadata": {},
   "source": [
    "![image.png](img/06.png)"
   ]
  },
  {
   "cell_type": "markdown",
   "metadata": {},
   "source": [
    "#### Search"
   ]
  },
  {
   "cell_type": "code",
   "execution_count": null,
   "metadata": {},
   "outputs": [],
   "source": [
    "string = \"Teste de expressão regular em Python 3.\"\n",
    "\n",
    "# procurando por um padrão\n",
    "resultado = re.search('regular', string)\n",
    "\n",
    "# capturando o resultado da pesquisa\n",
    "print(resultado.group(0))"
   ]
  },
  {
   "cell_type": "code",
   "execution_count": null,
   "metadata": {},
   "outputs": [],
   "source": [
    "# caso nada seja encontrado o resultado seria None\n",
    "resultado = re.search('nada', string)\n",
    "\n",
    "if resultado:\n",
    "    print(\"Encontrado\")\n",
    "else:\n",
    "    print(\"Não encontrado\")"
   ]
  },
  {
   "cell_type": "code",
   "execution_count": null,
   "metadata": {},
   "outputs": [],
   "source": [
    "# os padrões são organizados em grupos\n",
    "resultado = re.search('(reg)(ular)', string)\n",
    "#Com os parenteses pode ser agrupado\n",
    "print(\"grupo 1:\", resultado.group(1))\n",
    "print(\"grupo 2:\", resultado.group(2))"
   ]
  },
  {
   "cell_type": "code",
   "execution_count": null,
   "metadata": {},
   "outputs": [],
   "source": [
    "# Passando zero para o método retorna ambos os grupos.\n",
    "print(\"grupo 0:\", resultado.group(0))"
   ]
  },
  {
   "cell_type": "markdown",
   "metadata": {},
   "source": [
    "#### Match"
   ]
  },
  {
   "cell_type": "code",
   "execution_count": null,
   "metadata": {},
   "outputs": [],
   "source": [
    "# função match\n",
    "string = \"Teste de expressão regular em Python 3.\"\n",
    "\n",
    "resultado =  re.match('regular', string)\n",
    "print(resultado)\n",
    "\n",
    "resultado = re.match('...................(regular)', string)\n",
    "print(resultado)"
   ]
  },
  {
   "cell_type": "code",
   "execution_count": null,
   "metadata": {},
   "outputs": [],
   "source": [
    "# substring do inicio até a palavra `regular`\n",
    "print(resultado.group(0))\n",
    "\n",
    "# apenas a palavra regular\n",
    "print(resultado.group(1), '\\n')"
   ]
  },
  {
   "cell_type": "code",
   "execution_count": null,
   "metadata": {},
   "outputs": [],
   "source": [
    "# podemos obter os mesmos resultados\n",
    "# utilizando ferramentas apropriadadas\n",
    "resultado = re.match('.{19}(regular)', string)\n",
    "print(resultado.group(0))"
   ]
  },
  {
   "cell_type": "code",
   "execution_count": null,
   "metadata": {},
   "outputs": [],
   "source": [
    "# apenas a palavra regular\n",
    "print(resultado.group(1), '\\n')\n",
    "\n",
    "resultado = re.match('.*(regular)', string)\n",
    "print(resultado.group(0))"
   ]
  },
  {
   "cell_type": "code",
   "execution_count": null,
   "metadata": {},
   "outputs": [],
   "source": [
    "# apenas a palavra regular\n",
    "print(resultado.group(1), '\\n')\n",
    "print(re.findall(\"((reg)(ular))\", string))"
   ]
  },
  {
   "cell_type": "code",
   "execution_count": null,
   "metadata": {},
   "outputs": [],
   "source": [
    "import re\n",
    "list = []\n",
    "\n",
    "for i in range(int(input())):\n",
    "    comando = input()\n",
    "    \n",
    "    operacao = comando.split()\n",
    "    \n",
    "    if re.search(\"insert\",operacao[0]) != None: \n",
    "        list.insert(int(operacao[1]),int(operacao[2]))\n",
    "    if re.search(\"print\",operacao[0]) != None:\n",
    "        print(list)\n",
    "    if re.search(\"remove\",operacao[0]) != None:\n",
    "\t    list.remove(int(operacao[1]))\n",
    "    if re.search(\"append\",operacao[0]) != None:\n",
    "        list.append(int(operacao[1]))\n",
    "    if re.search(\"sort\",operacao[0]) != None:\n",
    "        list.sort()\n",
    "    if re.search(\"pop\",operacao[0]) != None:\n",
    "        list.pop(operacao[1])\n",
    "    if re.search(\"reverse\",operacao[0]) != None:\n",
    "        list.reverse()"
   ]
  },
  {
   "cell_type": "code",
   "execution_count": null,
   "metadata": {},
   "outputs": [],
   "source": [
    "log = '''\n",
    "0.0000 (0.0000) -  - [START] MainThread (141414001)\n",
    "0.0000 (0.0000) -  - Init TestRegex class\n",
    "0.0158 (0.0158) - 141414001 - [INFO] Before call method Invoice.insert\n",
    "0.0158 (0.0000) - 141414001 - [INV] [INSERT] Inserting new invoice...\n",
    "0.0591 (0.0433) - 141414001 - [ERROR] While executing Repository method: Invoice items insert failed: Invoice card detail insert failed\n",
    "0.0592 (0.0001) - 141414001 - [INFO] Repository DBConn closed \n",
    "0.0641 (0.0050) - 141414001 - [INFO] RequestInfo:141414001\n",
    "0.0642 (0.0000) - 141414001 - [END] - Invoice.insert MainThread (OriginalThread: MainThread)\n",
    "\n",
    "\n",
    "0.0000 (0.0000) -  - [START] MainThread (141414002)\n",
    "0.0000 (0.0000) -  - Init TestRegex class\n",
    "0.0152 (0.0152) - 141414002 - [INFO] Before call method Cardholder.cardTransfer\n",
    "0.0549 (0.0397) - 141414002 - [ERROR] While executing Repository method: Card of list is not from from_entity_id\n",
    "0.0550 (0.0001) - 141414002 - [INFO] Repository DBConn closed \n",
    "0.0599 (0.0049) - 141414002 - [INFO] RequestInfo:141414002 \n",
    "0.0599 (0.0000) - 141414002 - [END] - Invoice.insert MainThread (OriginalThread: MainThread)\n",
    "'''\n",
    "\n",
    "regex = \"ERROR.*:\"\n",
    "for macth in re.finditer(regex,log):\n",
    "    print(macth)\n",
    "\n",
    "print()\n",
    "\n",
    "regex = \"RequestInfo:.*\"\n",
    "for macth in re.finditer(regex,log):\n",
    "    print(macth)"
   ]
  },
  {
   "cell_type": "markdown",
   "metadata": {},
   "source": [
    "#### Resumão das Expressões Regulares numa folha A4 (PDF)\n",
    "\n",
    "http://piazinho.com.br/download/expressoes-regulares-3-tabelas.pdf"
   ]
  },
  {
   "cell_type": "markdown",
   "metadata": {},
   "source": [
    "#### Ferramentas de apoio: \n",
    "- Regex101 (https://regex101.com/ )\n",
    "        ★ Atualiza enquanto digita, destaca texto casado, mostra o conteúdo dos grupos, faz substituição de textos, referência rápida, sintaxes JavaScript, Python e Perl.\n",
    "        \n",
    "- Regexper (http://regexper.com/)\n",
    "        ★ Cria diagramas que descrevem o funcionamento de uma expressão regular.\n",
    "\n",
    "- My Regex Tester (https://www.myregextester.com/index.php)\n",
    "        ★ Destaca texto casado, explica a expressão, otimiza a expressão, mostra código pronto da linguagem, sintaxe JavaScript, Java, VB.NET, C#.NET, PHP e ASP."
   ]
  },
  {
   "cell_type": "markdown",
   "metadata": {},
   "source": [
    "#### Lição de casa\n",
    "\n",
    "RegexOne (https://regexone.com/)\n",
    "\n",
    "  ★ Tutorial com exemplos interativos que a cada lição vai te ensinando um pouco sobre as expressões."
   ]
  },
  {
   "cell_type": "markdown",
   "metadata": {},
   "source": [
    "### Testadores online\n",
    "\n",
    "- RegexPal (http://regexpal.com/)\n",
    "        ★ Atualiza enquanto digita, destaca texto casado, referência rápida, sintaxe JavaScript.\n",
    "\n",
    "- Regex101 (https://regex101.com/)\n",
    "        ★ Atualiza enquanto digita, destaca texto casado, mostra o conteúdo dos grupos, faz substituição de textos, referência rápida, sintaxes JavaScript, Python e Perl.\n",
    "\n",
    "- Debuggex (https://www.debuggex.com/)\n",
    "        ★ Cria um gráfico de sua expressão regular. Bom para entender como sua expressão é interpretada pelo computador. Sintaxe JavaScript, Python e PCRE.\n",
    "\n",
    "- Rubular (http://www.rubular.com/)\n",
    "        ★ Atualiza enquanto digita, destaca texto casado, referência rápida, sintaxe Ruby.\n",
    "\n",
    "- RegExr (https://regexr.com/)\n",
    "        ★ Atualiza enquanto digita, destaca texto casado, referência rápida, precisa do Flash Player 9, sintaxe ActionScript.\n",
    "\n",
    "- regex (http://regex.larsolavtorvik.com/)\n",
    "        ★ Atualiza enquanto digita, destaca texto casado, referência rápida, mostra código pronto da linguagem, sintaxe JavaScript, Perl, Python e PHP.\n",
    "\n",
    "- HiFi RegExp Tool (http://www.gethifi.com/tools/regex)\n",
    "        ★ Atualiza enquanto digita, destaca texto casado, referência rápida, exemplo de código em JavaScript, sintaxe JavaScript.\n",
    "\n",
    "- JRX (http://cuneytyilmaz.com/prog/jrx/)\n",
    "        ★ Atualiza enquanto digita, destaca texto casado, referência rápida, sintaxe JavaScript.\n",
    "\n",
    "- Regexper (http://regexper.com/)\n",
    "        ★ Cria diagramas que descrevem o funcionamento de uma expressão regular.\n",
    "\n",
    "- Regular Expression Generator (http://www.txt2re.com/)\n",
    "        ★ Gerador de Expressões Regulares. Você digita o texto que quer casar e ele gera um programa pronto para extrair este texto, em várias linguagens, entre elas Python, Perl, PHP, Ruby, Java e javaScript.\n",
    "\n",
    "- RegexOne (https://regexone.com/)\n",
    "        ★ Tutorial com exemplos interativos que a cada lição vai te ensinando um pouco sobre as expressões."
   ]
  },
  {
   "cell_type": "markdown",
   "metadata": {},
   "source": [
    "Referências/recursos:\n",
    "\n",
    "- http://www.rexegg.com/regex-quickstart.html#chars\n",
    "- http://aurelio.net/regex/\n",
    "- http://aurelio.net/blog/2012/05/04/resumao-das-expressoes-regulares-numa-folha-a4-pdf/"
   ]
  },
  {
   "cell_type": "markdown",
   "metadata": {},
   "source": [
    "#### Livros\n",
    "\n",
    "![image.png](img/03.png)"
   ]
  }
 ],
 "metadata": {
  "kernelspec": {
   "display_name": "Python 3",
   "language": "python",
   "name": "python3"
  },
  "language_info": {
   "codemirror_mode": {
    "name": "ipython",
    "version": 3
   },
   "file_extension": ".py",
   "mimetype": "text/x-python",
   "name": "python",
   "nbconvert_exporter": "python",
   "pygments_lexer": "ipython3",
   "version": "3.6.4"
  }
 },
 "nbformat": 4,
 "nbformat_minor": 2
}
